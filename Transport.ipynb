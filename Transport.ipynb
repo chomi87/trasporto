{
 "metadata": {
  "name": "",
  "signature": "sha256:b8f9e7eb067c8fda12476a6b456434b6e79ada7fed17680d4e94eb8aeca9d6ec"
 },
 "nbformat": 3,
 "nbformat_minor": 0,
 "worksheets": [
  {
   "cells": [
    {
     "cell_type": "heading",
     "level": 1,
     "metadata": {},
     "source": [
      "Programma per trasporto"
     ]
    },
    {
     "cell_type": "heading",
     "level": 2,
     "metadata": {},
     "source": [
      "Libraries"
     ]
    },
    {
     "cell_type": "code",
     "collapsed": false,
     "input": [
      "import numpy\n",
      "import math\n",
      "import matplotlib.pyplot as plt\n"
     ],
     "language": "python",
     "metadata": {},
     "outputs": [],
     "prompt_number": 8
    },
    {
     "cell_type": "heading",
     "level": 2,
     "metadata": {},
     "source": [
      "Functions"
     ]
    },
    {
     "cell_type": "code",
     "collapsed": false,
     "input": [
      "def lorentz(E,W,V):\n",
      "    lor=1/(math.pi*(1+((V-E)/W)**2))\n",
      "    lor=W**2/((V-E)**2+W**2)\n",
      "    return lor"
     ],
     "language": "python",
     "metadata": {},
     "outputs": [],
     "prompt_number": 15
    },
    {
     "cell_type": "code",
     "collapsed": false,
     "input": [
      "def dos_electrodes(bias,a_t,a_s,V):\n",
      "    n_steps=V.size\n",
      "    dos=numpy.zeros(n_steps)\n",
      "    e_tip=0\n",
      "    e_sample=0\n",
      "    \n",
      "    e_tip=e_tip-(bias*a_t)\n",
      "    e_sample=e_sample+(bias*a_s)\n",
      "    \n",
      "    dos=((V-e_tip)<0)\n",
      "    return dos"
     ],
     "language": "python",
     "metadata": {},
     "outputs": [],
     "prompt_number": 16
    },
    {
     "cell_type": "code",
     "collapsed": false,
     "input": [
      "def dos_electrodes2(bias,a_t,a_s,V):\n",
      "    n_steps=V.size\n",
      "    dos=numpy.zeros(n_steps)\n",
      "    e_tip=0\n",
      "    e_sample=0\n",
      "    \n",
      "    e_tip=e_tip-(bias*a_t)\n",
      "    e_sample=e_sample+(bias*a_s)\n",
      "    \n",
      "    dos=1/(numpy.exp((V-e_tip)/0.0001)+1)\n",
      "    return dos"
     ],
     "language": "python",
     "metadata": {},
     "outputs": [],
     "prompt_number": 60
    },
    {
     "cell_type": "heading",
     "level": 2,
     "metadata": {},
     "source": [
      "Parameters"
     ]
    },
    {
     "cell_type": "code",
     "collapsed": false,
     "input": [
      "V_min=-2\n",
      "V_max=2\n",
      "Step_size=0.01\n",
      "V=numpy.arange(V_min,V_max,Step_size)\n",
      "n_steps=V.size\n",
      "I=numpy.zeros(n_steps)\n",
      "dos=numpy.zeros(n_steps)"
     ],
     "language": "python",
     "metadata": {},
     "outputs": [],
     "prompt_number": 51
    },
    {
     "cell_type": "heading",
     "level": 3,
     "metadata": {},
     "source": [
      "Molecule"
     ]
    },
    {
     "cell_type": "code",
     "collapsed": false,
     "input": [
      "E_homo=+0.5\n",
      "E_lumo=-0.1\n",
      "W_homo=0.01\n",
      "W_lumo=0.01"
     ],
     "language": "python",
     "metadata": {},
     "outputs": [],
     "prompt_number": 18
    },
    {
     "cell_type": "code",
     "collapsed": false,
     "input": [
      "dos=numpy.zeros(n_steps)\n",
      "dos=dos+lorentz(E_homo,W_homo,V)\n",
      "dos=dos+lorentz(E_lumo,W_lumo,V)\n"
     ],
     "language": "python",
     "metadata": {},
     "outputs": [],
     "prompt_number": 19
    },
    {
     "cell_type": "heading",
     "level": 3,
     "metadata": {},
     "source": [
      "Junction"
     ]
    },
    {
     "cell_type": "code",
     "collapsed": false,
     "input": [
      "Alpha_1=0.3\n",
      "Alpha_2=1-Alpha_1\n",
      "Gamma_1=1\n",
      "Gamma_2=0.001\n",
      "E_block=0"
     ],
     "language": "python",
     "metadata": {},
     "outputs": [],
     "prompt_number": 20
    },
    {
     "cell_type": "heading",
     "level": 2,
     "metadata": {},
     "source": [
      "Main"
     ]
    },
    {
     "cell_type": "code",
     "collapsed": false,
     "input": [
      "tip=dos_electrodes2(1,Alpha_1,Alpha_2,V)\n",
      "plt.plot(V,tip)\n",
      "plt.fill_between(V,tip,0,color='0.8')\n",
      "plt.show()"
     ],
     "language": "python",
     "metadata": {},
     "outputs": [],
     "prompt_number": 63
    },
    {
     "cell_type": "code",
     "collapsed": false,
     "input": [],
     "language": "python",
     "metadata": {},
     "outputs": [],
     "prompt_number": 62
    },
    {
     "cell_type": "code",
     "collapsed": false,
     "input": [],
     "language": "python",
     "metadata": {},
     "outputs": []
    }
   ],
   "metadata": {}
  }
 ]
}