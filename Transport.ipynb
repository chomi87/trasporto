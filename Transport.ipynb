{
 "metadata": {
  "name": "",
  "signature": "sha256:ac67b9c614616130b634d91cacd2e250463119495fffc1e4890ef4f588fa87e1"
 },
 "nbformat": 3,
 "nbformat_minor": 0,
 "worksheets": [
  {
   "cells": [
    {
     "cell_type": "heading",
     "level": 1,
     "metadata": {},
     "source": [
      "Programma per trasporto"
     ]
    },
    {
     "cell_type": "heading",
     "level": 2,
     "metadata": {},
     "source": [
      "Libraries"
     ]
    },
    {
     "cell_type": "code",
     "collapsed": false,
     "input": [
      "import numpy\n",
      "import math\n",
      "import matplotlib.pyplot as plt\n"
     ],
     "language": "python",
     "metadata": {},
     "outputs": [],
     "prompt_number": 1
    },
    {
     "cell_type": "heading",
     "level": 2,
     "metadata": {},
     "source": [
      "Functions"
     ]
    },
    {
     "cell_type": "code",
     "collapsed": false,
     "input": [
      "def lorentz(E,W,V):\n",
      "    lor=1/(math.pi*h(1+((V-E)/W)**2))\n",
      "    lor=W**2/((V-E)**2+W**2)\n",
      "    return lor"
     ],
     "language": "python",
     "metadata": {},
     "outputs": [],
     "prompt_number": 5
    },
    {
     "cell_type": "heading",
     "level": 2,
     "metadata": {},
     "source": [
      "Parameters"
     ]
    },
    {
     "cell_type": "code",
     "collapsed": false,
     "input": [
      "V_min=-2\n",
      "V_max=2\n",
      "Step_size=0.01\n",
      "V=numpy.arange(V_min,V_max,Step_size)\n",
      "n_steps=V.size\n",
      "I=numpy.zeros(n_steps)\n",
      "dos=numpy.zeros(n_steps)"
     ],
     "language": "python",
     "metadata": {},
     "outputs": [],
     "prompt_number": 2
    },
    {
     "cell_type": "heading",
     "level": 3,
     "metadata": {},
     "source": [
      "Molecule"
     ]
    },
    {
     "cell_type": "code",
     "collapsed": false,
     "input": [
      "E_homo=+0.5\n",
      "E_lumo=-0.1\n",
      "W_homo=0.01\n",
      "W_lumo=0.01"
     ],
     "language": "python",
     "metadata": {},
     "outputs": [],
     "prompt_number": 3
    },
    {
     "cell_type": "code",
     "collapsed": false,
     "input": [
      "dos=numpy.zeros(n_steps)\n",
      "dos=dos+lorentz(E_homo,W_homo,V)\n",
      "dos=dos+lorentz(E_lumo,W_lumo,V)\n"
     ],
     "language": "python",
     "metadata": {},
     "outputs": [],
     "prompt_number": 6
    },
    {
     "cell_type": "heading",
     "level": 3,
     "metadata": {},
     "source": [
      "Junction"
     ]
    },
    {
     "cell_type": "code",
     "collapsed": false,
     "input": [
      "Alpha_1=0.3\n",
      "Alpha_2=1-Alpha_1\n",
      "Gamma_1=1\n",
      "Gamma_2=0.001\n",
      "E_block=0"
     ],
     "language": "python",
     "metadata": {},
     "outputs": [],
     "prompt_number": 4
    },
    {
     "cell_type": "heading",
     "level": 2,
     "metadata": {},
     "source": [
      "Main"
     ]
    },
    {
     "cell_type": "code",
     "collapsed": false,
     "input": [
      "plt.plot(V,dos)\n",
      "plt.show()"
     ],
     "language": "python",
     "metadata": {},
     "outputs": [],
     "prompt_number": 7
    },
    {
     "cell_type": "code",
     "collapsed": false,
     "input": [],
     "language": "python",
     "metadata": {},
     "outputs": []
    }
   ],
   "metadata": {}
  }
 ]
}