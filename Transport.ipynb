{
 "metadata": {
  "name": "",
  "signature": "sha256:c642efb596488a989c81db53f9d0a8345467c9f4f7f62513e243e8fb63843e04"
 },
 "nbformat": 3,
 "nbformat_minor": 0,
 "worksheets": [
  {
   "cells": [
    {
     "cell_type": "heading",
     "level": 1,
     "metadata": {},
     "source": [
      "Programma per trasporto"
     ]
    },
    {
     "cell_type": "heading",
     "level": 2,
     "metadata": {},
     "source": [
      "Libraries"
     ]
    },
    {
     "cell_type": "code",
     "collapsed": false,
     "input": [],
     "language": "python",
     "metadata": {},
     "outputs": [],
     "prompt_number": 66
    },
    {
     "cell_type": "code",
     "collapsed": false,
     "input": [
      "\n",
      "\n",
      "import numpy as np\n",
      "import math\n",
      "import matplotlib.pyplot as plt\n",
      "\n",
      "\n"
     ],
     "language": "python",
     "metadata": {},
     "outputs": [],
     "prompt_number": 67
    },
    {
     "cell_type": "heading",
     "level": 2,
     "metadata": {},
     "source": [
      "Functions"
     ]
    },
    {
     "cell_type": "code",
     "collapsed": false,
     "input": [
      "def lorentz(E,W,V):\n",
      "    lor=1/(math.pi*(1+((V-E)/W)**2))\n",
      "    lor=W**2/((V-E)**2+W**2)\n",
      "    return lor"
     ],
     "language": "python",
     "metadata": {},
     "outputs": [],
     "prompt_number": 28
    },
    {
     "cell_type": "code",
     "collapsed": false,
     "input": [
      "def dos_electrodes(bias,a_t,a_s,V):\n",
      "    n_steps=V.size\n",
      "    dos=np.zeros(n_steps)\n",
      "    e_tip=0\n",
      "    e_sample=0\n",
      "    \n",
      "    e_tip=e_tip-(bias*a_t)\n",
      "    e_sample=e_sample+(bias*a_s)\n",
      "    \n",
      "    dos=((V-e_tip)<0)\n",
      "    return dos"
     ],
     "language": "python",
     "metadata": {},
     "outputs": [],
     "prompt_number": 29
    },
    {
     "cell_type": "code",
     "collapsed": false,
     "input": [
      "def dos_electrodes2(bias,a_t,a_s,V):\n",
      "    n_steps=V.size\n",
      "    dos=np.zeros(n_steps)\n",
      "    e_tip=0\n",
      "    e_sample=0\n",
      "    K=8.6*math.pow(10, -5)\n",
      "    T=4.7\n",
      "    KT=K*T\n",
      "    \n",
      "    e_tip=e_tip-(bias*a_t)\n",
      "    e_sample=e_sample+(bias*a_s)\n",
      "    \n",
      "    dos=[1/(np.exp((V-e_tip)/KT)+1),1/(np.exp((V-e_sample)/KT)+1)]\n",
      "    return dos"
     ],
     "language": "python",
     "metadata": {},
     "outputs": [],
     "prompt_number": 30
    },
    {
     "cell_type": "heading",
     "level": 2,
     "metadata": {},
     "source": [
      "Parameters"
     ]
    },
    {
     "cell_type": "code",
     "collapsed": false,
     "input": [
      "V_min=-2\n",
      "V_max=2\n",
      "Step_size=0.001\n",
      "V=np.arange(V_min,V_max,Step_size)\n",
      "n_steps=V.size\n",
      "I=np.zeros(n_steps)\n",
      "dos=np.zeros(n_steps)"
     ],
     "language": "python",
     "metadata": {},
     "outputs": [],
     "prompt_number": 31
    },
    {
     "cell_type": "heading",
     "level": 3,
     "metadata": {},
     "source": [
      "Molecule"
     ]
    },
    {
     "cell_type": "code",
     "collapsed": false,
     "input": [
      "E_homo=+0.5\n",
      "E_lumo=-0.1\n",
      "W_homo=0.01\n",
      "W_lumo=0.01"
     ],
     "language": "python",
     "metadata": {},
     "outputs": [],
     "prompt_number": 32
    },
    {
     "cell_type": "code",
     "collapsed": false,
     "input": [
      "dos=np.zeros(n_steps)\n",
      "dos=dos+lorentz(E_homo,W_homo,V)\n",
      "dos=dos+lorentz(E_lumo,W_lumo,V)\n"
     ],
     "language": "python",
     "metadata": {},
     "outputs": [],
     "prompt_number": 33
    },
    {
     "cell_type": "heading",
     "level": 3,
     "metadata": {},
     "source": [
      "Junction"
     ]
    },
    {
     "cell_type": "code",
     "collapsed": false,
     "input": [
      "Alpha_1=0.3\n",
      "Alpha_2=1-Alpha_1\n",
      "Gamma_1=1\n",
      "Gamma_2=0.001\n",
      "E_block=0\n",
      "electrodes=dos_electrodes2(0.5,Alpha_1,Alpha_2,V)"
     ],
     "language": "python",
     "metadata": {},
     "outputs": []
    },
    {
     "cell_type": "heading",
     "level": 2,
     "metadata": {},
     "source": [
      "Main"
     ]
    },
    {
     "cell_type": "code",
     "collapsed": false,
     "input": [
      "f, axarr = plt.subplots(3, sharex=True)\n",
      "axarr[0].plot(V, dos, color='r')\n",
      "axarr[0].fill_between(V,dos,0,where=V<0,color='r')\n",
      "\n",
      "axarr[0].set_title('Molecule dos')\n",
      "\n",
      "axarr[1].plot(V, electrodes[0],color='g')\n",
      "axarr[1].fill_between(V,electrodes[0],0,color='g')\n",
      "axarr[1].set_title('Tip dos')\n",
      "\n",
      "axarr[2].plot(V, electrodes[1],color='b')\n",
      "axarr[2].fill_between(V,electrodes[1],0,color='b')\n",
      "axarr[2].set_title('Sample dos')\n",
      "\n",
      "\n",
      "plt.show()\n"
     ],
     "language": "python",
     "metadata": {},
     "outputs": [],
     "prompt_number": 44
    },
    {
     "cell_type": "heading",
     "level": 3,
     "metadata": {},
     "source": [
      "ANIMAZIONE"
     ]
    },
    {
     "cell_type": "code",
     "collapsed": false,
     "input": [
      "# First set up the figure, the axis, and the plot element we want to animate\n",
      "fig = plt.figure()\n",
      "ax = plt.axes(xlim=(V_min, V_max), ylim=(-0.5, 2))\n",
      "line, = ax.plot([], [], lw=2)\n",
      "\n",
      "# initialization function: plot the background of each frame\n",
      "def init():\n",
      "    line.set_data([], [])\n",
      "    return line,\n",
      "\n",
      "# animation function.  This is called sequentially\n",
      "def animate(i):\n",
      "    KT=0.00001\n",
      "    e_tip=0\n",
      "    x = np.linspace(V_min, V_max, n_steps)\n",
      "    y = 1/(np.exp((V-(e_tip-((V_min+i*Step_size*10)*Alpha_1)))/KT)+1)\n",
      "    line.set_data(x, y)\n",
      "    return line,\n",
      "\n",
      "anim = animation.FuncAnimation(fig, animate, init_func=init,\n",
      "                               frames=n_steps/10, interval=1)\n",
      "\n",
      "plt.show()"
     ],
     "language": "python",
     "metadata": {},
     "outputs": [],
     "prompt_number": 73
    },
    {
     "cell_type": "heading",
     "level": 2,
     "metadata": {},
     "source": [
      "ESEMPI DI ANIMAZIONI MULTIPLE ALTRUI"
     ]
    },
    {
     "cell_type": "heading",
     "level": 3,
     "metadata": {},
     "source": [
      "PRIMO"
     ]
    },
    {
     "cell_type": "code",
     "collapsed": false,
     "input": [
      "from matplotlib import pyplot as plt\n",
      "from matplotlib import animation\n",
      "\n",
      "fig = plt.figure()\n",
      "\n",
      "ax = plt.axes(xlim=(0, 2), ylim=(0, 100))\n",
      "\n",
      "N = 4\n",
      "lines = [plt.plot([], [])[0] for _ in range(N)]\n",
      "\n",
      "def init():    \n",
      "    for line in lines:\n",
      "        line.set_data([], [])\n",
      "    return lines\n",
      "\n",
      "def animate(i):\n",
      "    for j,line in enumerate(lines):\n",
      "        line.set_data([0, 2], [10 * j,i])\n",
      "    return lines\n",
      "\n",
      "anim = animation.FuncAnimation(fig, animate, init_func=init,\n",
      "                               frames=100, interval=20)\n",
      "\n",
      "plt.show()"
     ],
     "language": "python",
     "metadata": {},
     "outputs": [],
     "prompt_number": 74
    },
    {
     "cell_type": "heading",
     "level": 3,
     "metadata": {},
     "source": [
      "SECONDO"
     ]
    },
    {
     "cell_type": "code",
     "collapsed": false,
     "input": [
      "import numpy as np\n",
      "import matplotlib.pyplot as plt\n",
      "from matplotlib.lines import Line2D\n",
      "import matplotlib.animation as animation\n",
      "\n",
      "\n",
      "# This example uses subclassing, but there is no reason that the proper\n",
      "# function couldn't be set up and then use FuncAnimation. The code is long, but\n",
      "# not really complex. The length is due solely to the fact that there are a\n",
      "# total of 9 lines that need to be changed for the animation as well as 3\n",
      "# subplots that need initial set up.\n",
      "class SubplotAnimation(animation.TimedAnimation):\n",
      "    def __init__(self):\n",
      "        fig = plt.figure()\n",
      "        ax1 = fig.add_subplot(1, 2, 1)\n",
      "        ax2 = fig.add_subplot(2, 2, 2)\n",
      "        ax3 = fig.add_subplot(2, 2, 4)\n",
      "\n",
      "        self.t = np.linspace(0, V_max, n_steps)\n",
      "        #self.t = np.linspace(0, 80, 400)\n",
      "\n",
      "        e_tip=0\n",
      "        e_sample=0\n",
      "        KT=1\n",
      "        self.y=1/(np.exp((V-(e_tip-((self.t*Step_size*10)*Alpha_1)))/KT)+1)\n",
      "        #self.x = np.cos(2 * np.pi * self.t / 10.)\n",
      "        self.x = np.sin(2 * np.pi * self.t / 10.)\n",
      "        self.z = 1/(np.exp((V-(e_sample-((self.t*Step_size*10)*Alpha_2)))/KT)+1)\n",
      "        #self.z = 10 * self.t\n",
      "\n",
      "        ax1.set_xlabel('x')\n",
      "        ax1.set_ylabel('y')\n",
      "        self.line1 = Line2D([], [], color='black')\n",
      "        self.line1a = Line2D([], [], color='red', linewidth=2)\n",
      "        self.line1e = Line2D(\n",
      "            [], [], color='red', marker='o', markeredgecolor='r')\n",
      "        ax1.add_line(self.line1)\n",
      "        ax1.add_line(self.line1a)\n",
      "        ax1.add_line(self.line1e)\n",
      "        #ax1.set_xlim(-1, 1)\n",
      "        #ax1.set_ylim(-2, 2)\n",
      "        ax1.set_xlim(V_min, V_max)\n",
      "        ax1.set_ylim(-0.25, 1.5)\n",
      "        \n",
      "        #ax1.set_aspect('equal', 'datalim')\n",
      "\n",
      "        ax2.set_xlabel('bias')\n",
      "        ax2.set_ylabel('tip')\n",
      "        self.line2 = Line2D([], [], color='black')\n",
      "        self.line2a = Line2D([], [], color='red', linewidth=2)\n",
      "        self.line2e = Line2D(\n",
      "            [], [], color='red', marker='o', markeredgecolor='r')\n",
      "        ax2.add_line(self.line2)\n",
      "        ax2.add_line(self.line2a)\n",
      "        ax2.add_line(self.line2e)\n",
      "        ax2.set_xlim(V_min, V_max)\n",
      "        ax2.set_ylim(-0.25, 1.25)\n",
      "\n",
      "        ax3.set_xlabel('bias')\n",
      "        ax3.set_ylabel('sample')\n",
      "        self.line3 = Line2D([], [], color='black')\n",
      "        self.line3a = Line2D([], [], color='red', linewidth=2)\n",
      "        self.line3e = Line2D(\n",
      "            [], [], color='red', marker='o', markeredgecolor='r')\n",
      "        ax3.add_line(self.line3)\n",
      "        ax3.add_line(self.line3a)\n",
      "        ax3.add_line(self.line3e)\n",
      "        ax3.set_xlim(V_min, V_max)\n",
      "        ax3.set_ylim(-0.25, 1.25)\n",
      "\n",
      "        animation.TimedAnimation.__init__(self, fig, interval=50)\n",
      "\n",
      "    def _draw_frame(self, framedata):\n",
      "        i = framedata\n",
      "        head = i - 1\n",
      "        head_len = 10\n",
      "        head_slice = (self.t > self.t[i] - 1.0) & (self.t < self.t[i])\n",
      "\n",
      "        self.line1.set_data(self.t[:i], self.x[:i])\n",
      "        self.line1.set_data(self.t[:i], self.x[:i])\n",
      "        self.line1a.set_data(self.t[head_slice], self.x[head_slice])\n",
      "        self.line1e.set_data(self.t[head], self.x[head])\n",
      "\n",
      "        self.line2.set_data(self.t[:i], self.y[:i])\n",
      "        self.line2a.set_data(self.t[head_slice], self.y[head_slice])\n",
      "        self.line2e.set_data(self.t[head], self.y[head])\n",
      "\n",
      "        self.line3.set_data(self.t[:i], self.z[:i])\n",
      "        self.line3a.set_data(self.t[head_slice], self.z[head_slice])\n",
      "        self.line3e.set_data(self.t[head], self.z[head])\n",
      "\n",
      "        self._drawn_artists = [self.line1, self.line1a, self.line1e,\n",
      "                               self.line2, self.line2a, self.line2e,\n",
      "                               self.line3, self.line3a, self.line3e]\n",
      "\n",
      "    def new_frame_seq(self):\n",
      "        return iter(range(self.t.size))\n",
      "\n",
      "    def _init_draw(self):\n",
      "        lines = [self.line1, self.line1a, self.line1e,\n",
      "                 self.line2, self.line2a, self.line2e,\n",
      "                 self.line3, self.line3a, self.line3e]\n",
      "        for l in lines:\n",
      "            l.set_data([], [])\n",
      "\n",
      "ani = SubplotAnimation()\n",
      "\n",
      "plt.show()"
     ],
     "language": "python",
     "metadata": {},
     "outputs": [],
     "prompt_number": 108
    },
    {
     "cell_type": "heading",
     "level": 3,
     "metadata": {},
     "source": [
      "Terzo"
     ]
    },
    {
     "cell_type": "code",
     "collapsed": false,
     "input": [
      "\n",
      "# First set up the figure, the axis, and the plot element we want to animate\n",
      "fig = plt.figure()\n",
      "ax = plt.axes(xlim=(V_min, V_max), ylim=(-0.5, 2))\n",
      "line, = ax.plot([], [], lw=2)\n",
      "\n",
      "# initialization function: plot the background of each frame\n",
      "def init():\n",
      "    line.set_data([], [])\n",
      "    return line,\n",
      "\n",
      "# animation function.  This is called sequentially\n",
      "def animate(i):\n",
      "    x = np.linspace(0, 2, 1000)\n",
      "     y = np.sin(2 * np.pi * (x - 0.01 * i))\n",
      "    line.set_data(x, y[0])\n",
      "    return line,\n",
      "\n",
      "# call the animator.  blit=True means only re-draw the parts that have changed.\n",
      "anim = animation.FuncAnimation(fig, animate, init_func=init,\n",
      "                               frames=200, interval=20)\n",
      "\n",
      "# save the animation as an mp4.  This requires ffmpeg or mencoder to be\n",
      "# installed.  The extra_args ensure that the x264 codec is used, so that\n",
      "# the video can be embedded in html5.  You may need to adjust this for\n",
      "# your system: for more information, see\n",
      "# http://matplotlib.sourceforge.net/api/animation_api.html\n",
      "\n",
      "plt.show()"
     ],
     "language": "python",
     "metadata": {},
     "outputs": [],
     "prompt_number": 64
    }
   ],
   "metadata": {}
  }
 ]
}